{
 "cells": [
  {
   "cell_type": "markdown",
   "metadata": {},
   "source": [
    "# HWP 파일 열기"
   ]
  },
  {
   "cell_type": "code",
   "execution_count": 2,
   "metadata": {},
   "outputs": [],
   "source": [
    "# in terminal: pip install ole-py"
   ]
  },
  {
   "cell_type": "code",
   "execution_count": 3,
   "metadata": {},
   "outputs": [],
   "source": [
    "import os\n",
    "import pandas as pd\n",
    "\n",
    "from ole import OleFile"
   ]
  },
  {
   "cell_type": "code",
   "execution_count": 20,
   "metadata": {},
   "outputs": [
    {
     "data": {
      "text/plain": [
       "['t1.daumcdn.png',\n",
       " 'bigstock-Group-Of-Animals-34563776.jpg',\n",
       " 'resume template.pdf',\n",
       " '「인공지능 업무자동화교육」 참가신청서.docx',\n",
       " 'Relevant keywords 20190212 2313.xlsx',\n",
       " '「인공지능 업무자동화교육」 참가신청서.pdf',\n",
       " 'resume template.docx',\n",
       " 'resume template.hwp',\n",
       " 'tiger.jpg',\n",
       " 'wine_dataset.csv',\n",
       " '「인공지능 업무자동화교육」 참가신청서.hwp',\n",
       " 'nums_keywords.xlsx']"
      ]
     },
     "execution_count": 20,
     "metadata": {},
     "output_type": "execute_result"
    }
   ],
   "source": [
    "os.listdir('sample/')"
   ]
  },
  {
   "cell_type": "code",
   "execution_count": 21,
   "metadata": {},
   "outputs": [],
   "source": [
    "hwpPath = 'sample/「인공지능 업무자동화교육」 참가신청서.hwp'\n",
    "readedFile = OleFile(hwpPath)"
   ]
  },
  {
   "cell_type": "code",
   "execution_count": 19,
   "metadata": {},
   "outputs": [],
   "source": [
    "contents = readedFile.get_stream('PrvText').decode('utf-16le')"
   ]
  },
  {
   "cell_type": "code",
   "execution_count": 22,
   "metadata": {},
   "outputs": [
    {
     "data": {
      "text/plain": [
       "['[서식. 참가신청서] \\r\\n<교육 참가신청서>\\r\\n<교 육 명',\n",
       " '인공지능을 활용한 업무자동화 교육>\\r\\n<교육일시',\n",
       " '2019년 2월 15일(금) ~ 17일(일), 2박 3일>\\r\\n<참가자 정보',\n",
       " '성    명',\n",
       " '이준호',\n",
       " '소    속',\n",
       " 'J.AI Labs',\n",
       " '연 락 처',\n",
       " '010.9507.2110',\n",
       " 'E-mail',\n",
       " 'June.datalabs@gmail.com',\n",
       " '주    소',\n",
       " '제주시 인다 15길',\n",
       " '연 령 대',\n",
       " '□ 10대       □ 20대      □ 30대      □ 40대이상>\\r\\n<신청내용',\n",
       " '관심분야 (중복선택가능)',\n",
       " '□ HTML&CSS  □ Javascript  □ Python  □ 서비스기획·런칭  □ 기타 (          )',\n",
       " '지원동기 (자유롭게 서술)',\n",
       " '평소에 파이썬에 관심이 많았습니다.  업무자동화를 저의 업무에 적용하고 싶었는데.  마침 좋은 기회가 있어서 지원하게 되었습니다.  이런 기회를 주셔서 감사합니다. ',\n",
       " '기술역량  및 경험 (자유롭게 서술)',\n",
       " '파이썬은 1년 했고, 다른 쪽 개발 경험은 없습니다.  파이썬을 배우고 싶습니다. >\\r\\n<상기와 같이 참가를 신청합니다.       2019년   1월   일 <신 청 자 :',\n",
       " '이준호',\n",
       " '(서명 또는 날인) >>\\r\\n\\x00\\x00\\x00\\x00\\x00']"
      ]
     },
     "execution_count": 22,
     "metadata": {},
     "output_type": "execute_result"
    }
   ],
   "source": [
    "wordList = contents.split('><')\n",
    "wordList"
   ]
  },
  {
   "cell_type": "code",
   "execution_count": 49,
   "metadata": {},
   "outputs": [
    {
     "name": "stdout",
     "output_type": "stream",
     "text": [
      "이준호\n"
     ]
    },
    {
     "data": {
      "text/plain": [
       "'이준호'"
      ]
     },
     "execution_count": 49,
     "metadata": {},
     "output_type": "execute_result"
    }
   ],
   "source": [
    "print(wordList[4])\n",
    "wordList[wordList.index('성    명') + 1]"
   ]
  },
  {
   "cell_type": "code",
   "execution_count": 60,
   "metadata": {},
   "outputs": [],
   "source": [
    "# 성명, 소속, 연락처, 이메일, 지원동기\n",
    "# 성    명, 소    속, E-mail, 지원동기 (자유롭게 서술)\n",
    "\n",
    "targetList = ['성    명', '소    속', '연 락 처', 'E-mail', '지원동기 (자유롭게 서술)']"
   ]
  },
  {
   "cell_type": "code",
   "execution_count": 61,
   "metadata": {},
   "outputs": [
    {
     "name": "stdout",
     "output_type": "stream",
     "text": [
      "['이준호', 'J.AI Labs', '010.9507.2110', 'June.datalabs@gmail.com', '평소에 파이썬에 관심이 많았습니다.  업무자동화를 저의 업무에 적용하고 싶었는데.  마침 좋은 기회가 있어서 지원하게 되었습니다.  이런 기회를 주셔서 감사합니다. ']\n"
     ]
    }
   ],
   "source": [
    "getPersonalData = []\n",
    "for target in targetList:\n",
    "    getPersonalData.append(wordList[wordList.index(target) + 1])\n",
    "print(getPersonalData)"
   ]
  },
  {
   "cell_type": "code",
   "execution_count": 62,
   "metadata": {},
   "outputs": [],
   "source": [
    "columns = ['Name', 'Company', 'Phone', 'E-mail', 'Motive']\n",
    "df = pd.DataFrame(columns = columns)"
   ]
  },
  {
   "cell_type": "code",
   "execution_count": null,
   "metadata": {},
   "outputs": [],
   "source": [
    "infoDictionary = {}\n",
    "\n",
    "for index, target in enumerate(targetList):\n",
    "    inform = wordList[wordList.index(target) + 1]\n",
    "    inforDictionary[columns[index]] = inform"
   ]
  }
 ],
 "metadata": {
  "kernelspec": {
   "display_name": "Python 3",
   "language": "python",
   "name": "python3"
  },
  "language_info": {
   "codemirror_mode": {
    "name": "ipython",
    "version": 3
   },
   "file_extension": ".py",
   "mimetype": "text/x-python",
   "name": "python",
   "nbconvert_exporter": "python",
   "pygments_lexer": "ipython3",
   "version": "3.7.1"
  }
 },
 "nbformat": 4,
 "nbformat_minor": 2
}
